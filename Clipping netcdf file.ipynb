{
 "cells": [
  {
   "cell_type": "code",
   "execution_count": null,
   "metadata": {},
   "outputs": [],
   "source": [
    "#import rioxarray for accessing data and geopandas to clip the necessary area. unlike xarray, rioxarray or rasterxarray support raster data handling.\n",
    "import pandas as pd\n",
    "import rioxarray as rxr\n",
    "import geopandas as gpd"
   ]
  },
  {
   "cell_type": "code",
   "execution_count": null,
   "metadata": {},
   "outputs": [],
   "source": [
    "#use rxr.open_rasterio() to open the nc NetCDF file.  \n",
    "raster_ds = rxr.open_rasterio(\"directory\\file.nc\")"
   ]
  },
  {
   "cell_type": "code",
   "execution_count": null,
   "metadata": {},
   "outputs": [],
   "source": [
    "#open the shapefile and extract the region in the shapefile you want to use.\n",
    "#view the shapefile to get the exact variable names\n",
    "india = gpd.read_file(\"directory\\shapefile.shp\")\n",
    "kerala = india[india[\"name\"]==\"Kerala\"]\n",
    "kerala_geom = kerala.geometry \n",
    "kerala_geom"
   ]
  },
  {
   "cell_type": "code",
   "execution_count": null,
   "metadata": {},
   "outputs": [],
   "source": [
    "#code to clip the shapefile into the NetCDF data\n",
    "#use the first line only if coordinate reference system is not specified in the data. \n",
    "raster_ds.rio.write_crs(\"EPSG:4326\", inplace=True)\n",
    "kerala_clipped = raster_ds.rio.clip(kerala_geom)\n",
    "klds = kerala_clipped.to_dataset()\n",
    "klds"
   ]
  },
  {
   "cell_type": "code",
   "execution_count": null,
   "metadata": {},
   "outputs": [],
   "source": [
    "#the data for some unclipped region will be stilled present with variables carrying values like -999. use this code to convert them into nan.\n",
    "bad_data_condition = klds.data_vars[\"RAINFALL\"] < 0\n",
    "klds = klds.where(~bad_data_condition, np.nan)\n",
    "klds"
   ]
  },
  {
   "cell_type": "code",
   "execution_count": null,
   "metadata": {},
   "outputs": [],
   "source": [
    "#to convert it into a pandas dataframe and drop the nan values\n",
    "kldf = pd.DataFrame(klds.to_dataframe()).dropna()\n",
    "kldf"
   ]
  },
  {
   "cell_type": "code",
   "execution_count": null,
   "metadata": {},
   "outputs": [],
   "source": []
  }
 ],
 "metadata": {
  "kernelspec": {
   "display_name": "Python 3",
   "language": "python",
   "name": "python3"
  },
  "language_info": {
   "codemirror_mode": {
    "name": "ipython",
    "version": 3
   },
   "file_extension": ".py",
   "mimetype": "text/x-python",
   "name": "python",
   "nbconvert_exporter": "python",
   "pygments_lexer": "ipython3",
   "version": "3.11.0"
  }
 },
 "nbformat": 4,
 "nbformat_minor": 2
}
